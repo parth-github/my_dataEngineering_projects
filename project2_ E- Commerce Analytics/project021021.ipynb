{
 "cells": [
  {
   "cell_type": "code",
   "execution_count": 1,
   "id": "1c109b24",
   "metadata": {},
   "outputs": [
    {
     "data": {
      "application/vnd.jupyter.widget-view+json": {
       "model_id": "44c9671a502d491fa81dd6df5949c7d3",
       "version_major": 2,
       "version_minor": 0
      },
      "text/plain": [
       "VBox()"
      ]
     },
     "metadata": {},
     "output_type": "display_data"
    },
    {
     "name": "stdout",
     "output_type": "stream",
     "text": [
      "Starting Spark application\n"
     ]
    },
    {
     "data": {
      "text/html": [
       "<table>\n",
       "<tr><th>ID</th><th>YARN Application ID</th><th>Kind</th><th>State</th><th>Spark UI</th><th>Driver log</th><th>Current session?</th></tr><tr><td>0</td><td>application_1633172146223_0001</td><td>pyspark</td><td>idle</td><td><a target=\"_blank\" href=\"http://ip-172-31-76-56.ec2.internal:20888/proxy/application_1633172146223_0001/\" class=\"emr-proxy-link\" emr-resource=\"j-1TI9V71L5MZ7H\n",
       "\" application-id=\"application_1633172146223_0001\">Link</a></td><td><a target=\"_blank\" href=\"http://ip-172-31-77-130.ec2.internal:8042/node/containerlogs/container_1633172146223_0001_01_000001/livy\" >Link</a></td><td>✔</td></tr></table>"
      ],
      "text/plain": [
       "<IPython.core.display.HTML object>"
      ]
     },
     "metadata": {},
     "output_type": "display_data"
    },
    {
     "data": {
      "application/vnd.jupyter.widget-view+json": {
       "model_id": "",
       "version_major": 2,
       "version_minor": 0
      },
      "text/plain": [
       "FloatProgress(value=0.0, bar_style='info', description='Progress:', layout=Layout(height='25px', width='50%'),…"
      ]
     },
     "metadata": {},
     "output_type": "display_data"
    },
    {
     "name": "stdout",
     "output_type": "stream",
     "text": [
      "SparkSession available as 'spark'.\n"
     ]
    },
    {
     "data": {
      "application/vnd.jupyter.widget-view+json": {
       "model_id": "",
       "version_major": 2,
       "version_minor": 0
      },
      "text/plain": [
       "FloatProgress(value=0.0, bar_style='info', description='Progress:', layout=Layout(height='25px', width='50%'),…"
      ]
     },
     "metadata": {},
     "output_type": "display_data"
    },
    {
     "name": "stdout",
     "output_type": "stream",
     "text": [
      "<pyspark.sql.session.SparkSession object at 0x7f88de987f10>"
     ]
    }
   ],
   "source": [
    "spark"
   ]
  },
  {
   "cell_type": "code",
   "execution_count": 2,
   "id": "84ba1472",
   "metadata": {},
   "outputs": [
    {
     "data": {
      "application/vnd.jupyter.widget-view+json": {
       "model_id": "e91f1f310eab46d38c57a87bf29db432",
       "version_major": 2,
       "version_minor": 0
      },
      "text/plain": [
       "VBox()"
      ]
     },
     "metadata": {},
     "output_type": "display_data"
    },
    {
     "data": {
      "application/vnd.jupyter.widget-view+json": {
       "model_id": "",
       "version_major": 2,
       "version_minor": 0
      },
      "text/plain": [
       "FloatProgress(value=0.0, bar_style='info', description='Progress:', layout=Layout(height='25px', width='50%'),…"
      ]
     },
     "metadata": {},
     "output_type": "display_data"
    }
   ],
   "source": [
    "df = spark.read.csv('s3://project021021/olist_public_dataset.csv', header=True, inferSchema=True)"
   ]
  },
  {
   "cell_type": "code",
   "execution_count": 3,
   "id": "8accc309",
   "metadata": {},
   "outputs": [
    {
     "data": {
      "application/vnd.jupyter.widget-view+json": {
       "model_id": "265a678705124e3ba31d3ddbf2d69a86",
       "version_major": 2,
       "version_minor": 0
      },
      "text/plain": [
       "VBox()"
      ]
     },
     "metadata": {},
     "output_type": "display_data"
    },
    {
     "data": {
      "application/vnd.jupyter.widget-view+json": {
       "model_id": "",
       "version_major": 2,
       "version_minor": 0
      },
      "text/plain": [
       "FloatProgress(value=0.0, bar_style='info', description='Progress:', layout=Layout(height='25px', width='50%'),…"
      ]
     },
     "metadata": {},
     "output_type": "display_data"
    },
    {
     "name": "stdout",
     "output_type": "stream",
     "text": [
      "root\n",
      " |-- _c0: integer (nullable = true)\n",
      " |-- id: integer (nullable = true)\n",
      " |-- order_status: string (nullable = true)\n",
      " |-- order_products_value: double (nullable = true)\n",
      " |-- order_freight_value: double (nullable = true)\n",
      " |-- order_items_qty: integer (nullable = true)\n",
      " |-- order_sellers_qty: integer (nullable = true)\n",
      " |-- order_purchase_timestamp: timestamp (nullable = true)\n",
      " |-- order_aproved_at: timestamp (nullable = true)\n",
      " |-- order_estimated_delivery_date: timestamp (nullable = true)\n",
      " |-- order_delivered_customer_date: timestamp (nullable = true)\n",
      " |-- customer_city: string (nullable = true)\n",
      " |-- customer_state: string (nullable = true)\n",
      " |-- customer_zip_code_prefix: integer (nullable = true)\n",
      " |-- product_category_name: string (nullable = true)\n",
      " |-- product_name_lenght: integer (nullable = true)\n",
      " |-- product_description_lenght: integer (nullable = true)\n",
      " |-- product_photos_qty: integer (nullable = true)\n",
      " |-- review_score: integer (nullable = true)\n",
      " |-- review_comment_title: string (nullable = true)\n",
      " |-- review_comment_message: string (nullable = true)\n",
      " |-- review_creation_date: timestamp (nullable = true)\n",
      " |-- review_answer_timestamp: string (nullable = true)"
     ]
    }
   ],
   "source": [
    "df.printSchema()"
   ]
  },
  {
   "cell_type": "code",
   "execution_count": 4,
   "id": "82565c15",
   "metadata": {},
   "outputs": [
    {
     "data": {
      "application/vnd.jupyter.widget-view+json": {
       "model_id": "552a8fd6f6f1484984d4c691a5831ee1",
       "version_major": 2,
       "version_minor": 0
      },
      "text/plain": [
       "VBox()"
      ]
     },
     "metadata": {},
     "output_type": "display_data"
    },
    {
     "data": {
      "application/vnd.jupyter.widget-view+json": {
       "model_id": "",
       "version_major": 2,
       "version_minor": 0
      },
      "text/plain": [
       "FloatProgress(value=0.0, bar_style='info', description='Progress:', layout=Layout(height='25px', width='50%'),…"
      ]
     },
     "metadata": {},
     "output_type": "display_data"
    },
    {
     "name": "stdout",
     "output_type": "stream",
     "text": [
      "+---+---+------------+--------------------+-------------------+---------------+-----------------+------------------------+--------------------+-----------------------------+-----------------------------+-------------+--------------+------------------------+---------------------+-------------------+--------------------------+------------------+------------+--------------------+----------------------+--------------------+-----------------------+\n",
      "|_c0| id|order_status|order_products_value|order_freight_value|order_items_qty|order_sellers_qty|order_purchase_timestamp|    order_aproved_at|order_estimated_delivery_date|order_delivered_customer_date|customer_city|customer_state|customer_zip_code_prefix|product_category_name|product_name_lenght|product_description_lenght|product_photos_qty|review_score|review_comment_title|review_comment_message|review_creation_date|review_answer_timestamp|\n",
      "+---+---+------------+--------------------+-------------------+---------------+-----------------+------------------------+--------------------+-----------------------------+-----------------------------+-------------+--------------+------------------------+---------------------+-------------------+--------------------------+------------------+------------+--------------------+----------------------+--------------------+-----------------------+\n",
      "|  0|  1|   delivered|                79.0|               17.8|              1|                1|     2017-11-08 13:19:33|2017-11-08 13:35:...|          2017-12-06 00:00:00|         2017-11-23 21:21:...|     Luziania|            GO|                     728|            papelaria|                 50|                       201|                 2|           5|                null|                  null| 2017-11-24 00:00:00|   2017-11-25 11:18:...|\n",
      "|  1|  2|   delivered|               119.9|              27.16|              1|                1|     2017-08-07 11:23:16|2017-08-07 12:03:...|          2017-08-29 00:00:00|         2017-08-17 19:49:...|    Joinville|            SC|                     892|         market_place|                 50|                       511|                 3|           5|                null|                  null| 2017-08-18 00:00:00|   2017-08-20 03:31:...|\n",
      "+---+---+------------+--------------------+-------------------+---------------+-----------------+------------------------+--------------------+-----------------------------+-----------------------------+-------------+--------------+------------------------+---------------------+-------------------+--------------------------+------------------+------------+--------------------+----------------------+--------------------+-----------------------+\n",
      "only showing top 2 rows"
     ]
    }
   ],
   "source": [
    "df.show(2)"
   ]
  },
  {
   "cell_type": "code",
   "execution_count": 5,
   "id": "6fe30533",
   "metadata": {},
   "outputs": [
    {
     "data": {
      "application/vnd.jupyter.widget-view+json": {
       "model_id": "a7f398eea3a048979ef5b03afdf863ec",
       "version_major": 2,
       "version_minor": 0
      },
      "text/plain": [
       "VBox()"
      ]
     },
     "metadata": {},
     "output_type": "display_data"
    },
    {
     "data": {
      "application/vnd.jupyter.widget-view+json": {
       "model_id": "",
       "version_major": 2,
       "version_minor": 0
      },
      "text/plain": [
       "FloatProgress(value=0.0, bar_style='info', description='Progress:', layout=Layout(height='25px', width='50%'),…"
      ]
     },
     "metadata": {},
     "output_type": "display_data"
    }
   ],
   "source": [
    "from pyspark.sql.functions import *\n",
    "\n",
    "df2 = df.withColumn(\"ts\", to_timestamp(col(\"order_purchase_timestamp\"))) \\\n",
    "    .withColumn(\"datetype\", to_date(col(\"order_purchase_timestamp\"),\"yyyy-MM-dd\"))"
   ]
  },
  {
   "cell_type": "code",
   "execution_count": 8,
   "id": "a416337c",
   "metadata": {},
   "outputs": [
    {
     "data": {
      "application/vnd.jupyter.widget-view+json": {
       "model_id": "7aea80a794c34d16aaee638fef57c05f",
       "version_major": 2,
       "version_minor": 0
      },
      "text/plain": [
       "VBox()"
      ]
     },
     "metadata": {},
     "output_type": "display_data"
    },
    {
     "data": {
      "application/vnd.jupyter.widget-view+json": {
       "model_id": "",
       "version_major": 2,
       "version_minor": 0
      },
      "text/plain": [
       "FloatProgress(value=0.0, bar_style='info', description='Progress:', layout=Layout(height='25px', width='50%'),…"
      ]
     },
     "metadata": {},
     "output_type": "display_data"
    }
   ],
   "source": [
    "df3.write.format('csv').option('header','true').save('s3://project021021/out/olist_classified_public_dataset_1')"
   ]
  },
  {
   "cell_type": "code",
   "execution_count": 9,
   "id": "0c745298",
   "metadata": {},
   "outputs": [
    {
     "data": {
      "application/vnd.jupyter.widget-view+json": {
       "model_id": "1fc0a29d56b34b9c8b93ebe629cd7ebc",
       "version_major": 2,
       "version_minor": 0
      },
      "text/plain": [
       "VBox()"
      ]
     },
     "metadata": {},
     "output_type": "display_data"
    },
    {
     "data": {
      "application/vnd.jupyter.widget-view+json": {
       "model_id": "",
       "version_major": 2,
       "version_minor": 0
      },
      "text/plain": [
       "FloatProgress(value=0.0, bar_style='info', description='Progress:', layout=Layout(height='25px', width='50%'),…"
      ]
     },
     "metadata": {},
     "output_type": "display_data"
    },
    {
     "name": "stdout",
     "output_type": "stream",
     "text": [
      "+-------------+-----------+\n",
      "|week_of_month|day_of_week|\n",
      "+-------------+-----------+\n",
      "|            2|          4|\n",
      "|            2|          2|\n",
      "|            4|          5|\n",
      "|            3|          5|\n",
      "|            1|          7|\n",
      "|            2|          6|\n",
      "|            1|          7|\n",
      "|            2|          5|\n",
      "|            2|          4|\n",
      "|            3|          4|\n",
      "+-------------+-----------+\n",
      "only showing top 10 rows"
     ]
    }
   ],
   "source": [
    "df3.select('week_of_month', 'day_of_week').show(10)"
   ]
  },
  {
   "cell_type": "code",
   "execution_count": 11,
   "id": "944e15f9",
   "metadata": {},
   "outputs": [
    {
     "data": {
      "application/vnd.jupyter.widget-view+json": {
       "model_id": "8219afc03f984094888e3c583be61654",
       "version_major": 2,
       "version_minor": 0
      },
      "text/plain": [
       "VBox()"
      ]
     },
     "metadata": {},
     "output_type": "display_data"
    },
    {
     "data": {
      "application/vnd.jupyter.widget-view+json": {
       "model_id": "",
       "version_major": 2,
       "version_minor": 0
      },
      "text/plain": [
       "FloatProgress(value=0.0, bar_style='info', description='Progress:', layout=Layout(height='25px', width='50%'),…"
      ]
     },
     "metadata": {},
     "output_type": "display_data"
    }
   ],
   "source": [
    "df4 = df3.groupBy('order_status', 'week_of_month', 'day_of_week', 'customer_city').count()"
   ]
  },
  {
   "cell_type": "code",
   "execution_count": 12,
   "id": "84133057",
   "metadata": {},
   "outputs": [
    {
     "data": {
      "application/vnd.jupyter.widget-view+json": {
       "model_id": "0b355846e7f544e194c3ac8c2b4e03b0",
       "version_major": 2,
       "version_minor": 0
      },
      "text/plain": [
       "VBox()"
      ]
     },
     "metadata": {},
     "output_type": "display_data"
    },
    {
     "data": {
      "application/vnd.jupyter.widget-view+json": {
       "model_id": "",
       "version_major": 2,
       "version_minor": 0
      },
      "text/plain": [
       "FloatProgress(value=0.0, bar_style='info', description='Progress:', layout=Layout(height='25px', width='50%'),…"
      ]
     },
     "metadata": {},
     "output_type": "display_data"
    },
    {
     "name": "stdout",
     "output_type": "stream",
     "text": [
      "+------------+-------------+-----------+--------------------+-----+\n",
      "|order_status|week_of_month|day_of_week|       customer_city|count|\n",
      "+------------+-------------+-----------+--------------------+-----+\n",
      "|   delivered|            3|          1|       Volta Redonda|    5|\n",
      "|   delivered|            1|          6|            Anapolis|    5|\n",
      "|   delivered|            3|          5|Santo Antonio do ...|    1|\n",
      "|   delivered|            2|          5|        Quirinopolis|    1|\n",
      "|   delivered|            2|          7|           Cruz Alta|    1|\n",
      "|   delivered|            5|          6|   Sao Mateus do Sul|    3|\n",
      "|   delivered|            2|          2|     Pindamonhangaba|    1|\n",
      "|   delivered|            3|          1|             Ibirite|    2|\n",
      "|   delivered|            6|          1|           Cravinhos|    1|\n",
      "|  processing|            1|          6|               Aruja|    1|\n",
      "|   delivered|            4|          3|            BRASILIA|   64|\n",
      "|   delivered|            3|          1|            BRASILIA|   50|\n",
      "|   delivered|            4|          5|                Cruz|    1|\n",
      "|   delivered|            2|          2|           Araguaina|    2|\n",
      "|   delivered|            1|          2|             Niteroi|    4|\n",
      "|   delivered|            3|          1|Governador Valadares|    4|\n",
      "|   delivered|            6|          1|            BRASILIA|   11|\n",
      "|   delivered|            4|          6|           Aracatuba|    7|\n",
      "|   delivered|            3|          4|            Teresina|   13|\n",
      "|   delivered|            2|          5|            MESQUITA|    3|\n",
      "+------------+-------------+-----------+--------------------+-----+\n",
      "only showing top 20 rows"
     ]
    }
   ],
   "source": [
    "df4.show()"
   ]
  },
  {
   "cell_type": "code",
   "execution_count": 13,
   "id": "7d9a214f",
   "metadata": {},
   "outputs": [
    {
     "data": {
      "application/vnd.jupyter.widget-view+json": {
       "model_id": "9b78d7d38abd4819a3e29433115afd4c",
       "version_major": 2,
       "version_minor": 0
      },
      "text/plain": [
       "VBox()"
      ]
     },
     "metadata": {},
     "output_type": "display_data"
    },
    {
     "data": {
      "application/vnd.jupyter.widget-view+json": {
       "model_id": "",
       "version_major": 2,
       "version_minor": 0
      },
      "text/plain": [
       "FloatProgress(value=0.0, bar_style='info', description='Progress:', layout=Layout(height='25px', width='50%'),…"
      ]
     },
     "metadata": {},
     "output_type": "display_data"
    }
   ],
   "source": [
    "df4.write.format('csv').option('header','true').save('s3://project021021/out/olist_classified_public_dataset_2')"
   ]
  },
  {
   "cell_type": "code",
   "execution_count": 14,
   "id": "111edc67",
   "metadata": {},
   "outputs": [
    {
     "data": {
      "application/vnd.jupyter.widget-view+json": {
       "model_id": "08a402d4d3d44b0d86744bc7309d0c99",
       "version_major": 2,
       "version_minor": 0
      },
      "text/plain": [
       "VBox()"
      ]
     },
     "metadata": {},
     "output_type": "display_data"
    },
    {
     "data": {
      "application/vnd.jupyter.widget-view+json": {
       "model_id": "",
       "version_major": 2,
       "version_minor": 0
      },
      "text/plain": [
       "FloatProgress(value=0.0, bar_style='info', description='Progress:', layout=Layout(height='25px', width='50%'),…"
      ]
     },
     "metadata": {},
     "output_type": "display_data"
    }
   ],
   "source": [
    "average_review_score = df3.select(avg('review_score')).first()[0]"
   ]
  },
  {
   "cell_type": "code",
   "execution_count": 15,
   "id": "8ce26575",
   "metadata": {},
   "outputs": [
    {
     "data": {
      "application/vnd.jupyter.widget-view+json": {
       "model_id": "839ffe41ee47450eb2bfcfd624418ed1",
       "version_major": 2,
       "version_minor": 0
      },
      "text/plain": [
       "VBox()"
      ]
     },
     "metadata": {},
     "output_type": "display_data"
    },
    {
     "data": {
      "application/vnd.jupyter.widget-view+json": {
       "model_id": "",
       "version_major": 2,
       "version_minor": 0
      },
      "text/plain": [
       "FloatProgress(value=0.0, bar_style='info', description='Progress:', layout=Layout(height='25px', width='50%'),…"
      ]
     },
     "metadata": {},
     "output_type": "display_data"
    }
   ],
   "source": [
    "approved_order_count = df3.filter(col('order_aproved_at').isNotNull() ).count()"
   ]
  },
  {
   "cell_type": "code",
   "execution_count": 16,
   "id": "3764dc45",
   "metadata": {},
   "outputs": [
    {
     "data": {
      "application/vnd.jupyter.widget-view+json": {
       "model_id": "b62c4d32c1514a258b283bc59abb0fe5",
       "version_major": 2,
       "version_minor": 0
      },
      "text/plain": [
       "VBox()"
      ]
     },
     "metadata": {},
     "output_type": "display_data"
    },
    {
     "data": {
      "application/vnd.jupyter.widget-view+json": {
       "model_id": "",
       "version_major": 2,
       "version_minor": 0
      },
      "text/plain": [
       "FloatProgress(value=0.0, bar_style='info', description='Progress:', layout=Layout(height='25px', width='50%'),…"
      ]
     },
     "metadata": {},
     "output_type": "display_data"
    }
   ],
   "source": [
    "total_order_value = df3.agg(sum('order_products_value')).first()[0]"
   ]
  },
  {
   "cell_type": "code",
   "execution_count": 17,
   "id": "041e119e",
   "metadata": {},
   "outputs": [
    {
     "data": {
      "application/vnd.jupyter.widget-view+json": {
       "model_id": "c9969ce5cac347f2b9a177179d6eb51e",
       "version_major": 2,
       "version_minor": 0
      },
      "text/plain": [
       "VBox()"
      ]
     },
     "metadata": {},
     "output_type": "display_data"
    },
    {
     "data": {
      "application/vnd.jupyter.widget-view+json": {
       "model_id": "",
       "version_major": 2,
       "version_minor": 0
      },
      "text/plain": [
       "FloatProgress(value=0.0, bar_style='info', description='Progress:', layout=Layout(height='25px', width='50%'),…"
      ]
     },
     "metadata": {},
     "output_type": "display_data"
    },
    {
     "name": "stdout",
     "output_type": "stream",
     "text": [
      "Average order approval = 128.43788861993937"
     ]
    }
   ],
   "source": [
    "print(f'Average order approval = {total_order_value/approved_order_count}')"
   ]
  },
  {
   "cell_type": "code",
   "execution_count": 18,
   "id": "237da7ac",
   "metadata": {},
   "outputs": [
    {
     "data": {
      "application/vnd.jupyter.widget-view+json": {
       "model_id": "89a981ad2c4948b7841f6909094c0b2f",
       "version_major": 2,
       "version_minor": 0
      },
      "text/plain": [
       "VBox()"
      ]
     },
     "metadata": {},
     "output_type": "display_data"
    },
    {
     "data": {
      "application/vnd.jupyter.widget-view+json": {
       "model_id": "",
       "version_major": 2,
       "version_minor": 0
      },
      "text/plain": [
       "FloatProgress(value=0.0, bar_style='info', description='Progress:', layout=Layout(height='25px', width='50%'),…"
      ]
     },
     "metadata": {},
     "output_type": "display_data"
    }
   ],
   "source": [
    "average_frieght_value = df3.select(avg('order_freight_value')).first()[0]"
   ]
  },
  {
   "cell_type": "code",
   "execution_count": 19,
   "id": "58d8e9d0",
   "metadata": {},
   "outputs": [
    {
     "data": {
      "application/vnd.jupyter.widget-view+json": {
       "model_id": "cd879a41dd66494e9d49f2eda35f500e",
       "version_major": 2,
       "version_minor": 0
      },
      "text/plain": [
       "VBox()"
      ]
     },
     "metadata": {},
     "output_type": "display_data"
    },
    {
     "data": {
      "application/vnd.jupyter.widget-view+json": {
       "model_id": "",
       "version_major": 2,
       "version_minor": 0
      },
      "text/plain": [
       "FloatProgress(value=0.0, bar_style='info', description='Progress:', layout=Layout(height='25px', width='50%'),…"
      ]
     },
     "metadata": {},
     "output_type": "display_data"
    },
    {
     "name": "stdout",
     "output_type": "stream",
     "text": [
      "(4.05045, 21.741279200000008, 128.4147697999878)"
     ]
    }
   ],
   "source": [
    "df3.select(avg('review_score').alias('average_review_score'), \n",
    "           avg('order_freight_value').alias('average_frieght_value'), \n",
    "           avg('order_products_value').alias('Average_order_approval')) \\\n",
    ".first()[0:3]"
   ]
  },
  {
   "cell_type": "code",
   "execution_count": 20,
   "id": "f8228815",
   "metadata": {},
   "outputs": [
    {
     "data": {
      "application/vnd.jupyter.widget-view+json": {
       "model_id": "f3009c41352e48029d853c7ccd73643b",
       "version_major": 2,
       "version_minor": 0
      },
      "text/plain": [
       "VBox()"
      ]
     },
     "metadata": {},
     "output_type": "display_data"
    },
    {
     "data": {
      "application/vnd.jupyter.widget-view+json": {
       "model_id": "",
       "version_major": 2,
       "version_minor": 0
      },
      "text/plain": [
       "FloatProgress(value=0.0, bar_style='info', description='Progress:', layout=Layout(height='25px', width='50%'),…"
      ]
     },
     "metadata": {},
     "output_type": "display_data"
    }
   ],
   "source": [
    "df5 = df3.withColumn('order_deliver_timestamp', to_timestamp(col('order_delivered_customer_date'))) \\\n",
    "        .withColumn('order_purchase_timestamp_conv', to_timestamp(col('order_purchase_timestamp')))"
   ]
  },
  {
   "cell_type": "code",
   "execution_count": 21,
   "id": "71cc7f34",
   "metadata": {},
   "outputs": [
    {
     "data": {
      "application/vnd.jupyter.widget-view+json": {
       "model_id": "a4630c1963d846d2989635ee117c0241",
       "version_major": 2,
       "version_minor": 0
      },
      "text/plain": [
       "VBox()"
      ]
     },
     "metadata": {},
     "output_type": "display_data"
    },
    {
     "data": {
      "application/vnd.jupyter.widget-view+json": {
       "model_id": "",
       "version_major": 2,
       "version_minor": 0
      },
      "text/plain": [
       "FloatProgress(value=0.0, bar_style='info', description='Progress:', layout=Layout(height='25px', width='50%'),…"
      ]
     },
     "metadata": {},
     "output_type": "display_data"
    },
    {
     "name": "stdout",
     "output_type": "stream",
     "text": [
      "+-----------------------+-----------------------------+\n",
      "|order_deliver_timestamp|order_purchase_timestamp_conv|\n",
      "+-----------------------+-----------------------------+\n",
      "|   2017-11-23 21:21:...|          2017-11-08 13:19:33|\n",
      "|   2017-08-17 19:49:...|          2017-08-07 11:23:16|\n",
      "|   2018-04-15 17:56:...|          2018-03-22 02:29:42|\n",
      "|   2017-10-03 13:13:...|          2017-09-14 21:51:28|\n",
      "|   2018-03-06 16:41:...|          2018-03-03 20:50:21|\n",
      "|   2017-04-11 05:42:...|          2017-04-07 12:19:51|\n",
      "|   2017-07-19 20:19:...|          2017-07-01 22:38:39|\n",
      "|   2018-08-21 14:59:...|          2018-08-09 11:22:34|\n",
      "|   2018-07-31 15:27:...|          2018-07-11 08:17:08|\n",
      "|   2017-07-07 20:32:...|          2017-06-14 18:31:54|\n",
      "+-----------------------+-----------------------------+\n",
      "only showing top 10 rows"
     ]
    }
   ],
   "source": [
    "df5.select('order_deliver_timestamp', 'order_purchase_timestamp_conv').show(10)"
   ]
  },
  {
   "cell_type": "code",
   "execution_count": 22,
   "id": "ddf755f1",
   "metadata": {},
   "outputs": [
    {
     "data": {
      "application/vnd.jupyter.widget-view+json": {
       "model_id": "962b82ae580f469aa5c61d71288aff24",
       "version_major": 2,
       "version_minor": 0
      },
      "text/plain": [
       "VBox()"
      ]
     },
     "metadata": {},
     "output_type": "display_data"
    },
    {
     "data": {
      "application/vnd.jupyter.widget-view+json": {
       "model_id": "",
       "version_major": 2,
       "version_minor": 0
      },
      "text/plain": [
       "FloatProgress(value=0.0, bar_style='info', description='Progress:', layout=Layout(height='25px', width='50%'),…"
      ]
     },
     "metadata": {},
     "output_type": "display_data"
    }
   ],
   "source": [
    "df6 = df5.withColumn('deliver_time', \n",
    "               col('order_deliver_timestamp').cast('long')- \n",
    "               col('order_purchase_timestamp_conv').cast('long'))"
   ]
  },
  {
   "cell_type": "code",
   "execution_count": 23,
   "id": "c9ed9000",
   "metadata": {},
   "outputs": [
    {
     "data": {
      "application/vnd.jupyter.widget-view+json": {
       "model_id": "396336ffeaad4d789fda6061f0a2d2f7",
       "version_major": 2,
       "version_minor": 0
      },
      "text/plain": [
       "VBox()"
      ]
     },
     "metadata": {},
     "output_type": "display_data"
    },
    {
     "data": {
      "application/vnd.jupyter.widget-view+json": {
       "model_id": "",
       "version_major": 2,
       "version_minor": 0
      },
      "text/plain": [
       "FloatProgress(value=0.0, bar_style='info', description='Progress:', layout=Layout(height='25px', width='50%'),…"
      ]
     },
     "metadata": {},
     "output_type": "display_data"
    },
    {
     "name": "stdout",
     "output_type": "stream",
     "text": [
      "Row(deliver_time=1324912)"
     ]
    }
   ],
   "source": [
    "df6.select('deliver_time').first()"
   ]
  },
  {
   "cell_type": "code",
   "execution_count": 24,
   "id": "7222de9c",
   "metadata": {},
   "outputs": [
    {
     "data": {
      "application/vnd.jupyter.widget-view+json": {
       "model_id": "c15e60779dde4c3abef12da325067892",
       "version_major": 2,
       "version_minor": 0
      },
      "text/plain": [
       "VBox()"
      ]
     },
     "metadata": {},
     "output_type": "display_data"
    },
    {
     "data": {
      "application/vnd.jupyter.widget-view+json": {
       "model_id": "",
       "version_major": 2,
       "version_minor": 0
      },
      "text/plain": [
       "FloatProgress(value=0.0, bar_style='info', description='Progress:', layout=Layout(height='25px', width='50%'),…"
      ]
     },
     "metadata": {},
     "output_type": "display_data"
    }
   ],
   "source": [
    "average_delivery_time = df6.select(avg('deliver_time')).first()[0]"
   ]
  },
  {
   "cell_type": "code",
   "execution_count": 25,
   "id": "e1d6d9df",
   "metadata": {},
   "outputs": [
    {
     "data": {
      "application/vnd.jupyter.widget-view+json": {
       "model_id": "994a098109af4a21b7c60f81108327e6",
       "version_major": 2,
       "version_minor": 0
      },
      "text/plain": [
       "VBox()"
      ]
     },
     "metadata": {},
     "output_type": "display_data"
    },
    {
     "data": {
      "application/vnd.jupyter.widget-view+json": {
       "model_id": "",
       "version_major": 2,
       "version_minor": 0
      },
      "text/plain": [
       "FloatProgress(value=0.0, bar_style='info', description='Progress:', layout=Layout(height='25px', width='50%'),…"
      ]
     },
     "metadata": {},
     "output_type": "display_data"
    }
   ],
   "source": [
    "total_frieght_charges = df.select(sum('order_freight_value')).first()[0]"
   ]
  },
  {
   "cell_type": "code",
   "execution_count": 26,
   "id": "f29311b3",
   "metadata": {},
   "outputs": [
    {
     "data": {
      "application/vnd.jupyter.widget-view+json": {
       "model_id": "a77d29a1afba4391ae40f47e72f927f4",
       "version_major": 2,
       "version_minor": 0
      },
      "text/plain": [
       "VBox()"
      ]
     },
     "metadata": {},
     "output_type": "display_data"
    },
    {
     "data": {
      "application/vnd.jupyter.widget-view+json": {
       "model_id": "",
       "version_major": 2,
       "version_minor": 0
      },
      "text/plain": [
       "FloatProgress(value=0.0, bar_style='info', description='Progress:', layout=Layout(height='25px', width='50%'),…"
      ]
     },
     "metadata": {},
     "output_type": "display_data"
    },
    {
     "name": "stdout",
     "output_type": "stream",
     "text": [
      "+--------------------+------------------------+\n",
      "|       customer_city|sum(order_freight_value)|\n",
      "+--------------------+------------------------+\n",
      "|           Carrancas|      48.260000000000005|\n",
      "|            Machados|                  127.52|\n",
      "|    Francisco Morato|                 1279.74|\n",
      "|             Aracati|       760.6800000000001|\n",
      "|           Agua Doce|       76.08000000000001|\n",
      "|Brasilandia de Minas|                   92.24|\n",
      "|           Americana|      3382.6099999999997|\n",
      "|            Macatuba|      328.78000000000003|\n",
      "|           Nova Lima|      2043.5100000000007|\n",
      "|               Nipoa|                   28.65|\n",
      "|           Chorrocho|      157.01000000000002|\n",
      "|          Pedra Azul|                  201.24|\n",
      "|             Parapua|                    55.4|\n",
      "|        Francisco Sa|                  121.13|\n",
      "|        Virginopolis|      237.62000000000003|\n",
      "|            Antonina|                  246.24|\n",
      "|         Turvolandia|                   80.02|\n",
      "|             Fartura|                   222.3|\n",
      "|       Sao Cristovao|       713.2099999999999|\n",
      "|               Araci|                  165.69|\n",
      "+--------------------+------------------------+\n",
      "only showing top 20 rows"
     ]
    }
   ],
   "source": [
    "df.groupBy('customer_city').agg(sum('order_freight_value')).show()"
   ]
  },
  {
   "cell_type": "code",
   "execution_count": 33,
   "id": "586f8f17",
   "metadata": {},
   "outputs": [
    {
     "data": {
      "application/vnd.jupyter.widget-view+json": {
       "model_id": "f8c459b496d54103bc44a3c20dfcbccf",
       "version_major": 2,
       "version_minor": 0
      },
      "text/plain": [
       "VBox()"
      ]
     },
     "metadata": {},
     "output_type": "display_data"
    },
    {
     "data": {
      "application/vnd.jupyter.widget-view+json": {
       "model_id": "",
       "version_major": 2,
       "version_minor": 0
      },
      "text/plain": [
       "FloatProgress(value=0.0, bar_style='info', description='Progress:', layout=Layout(height='25px', width='50%'),…"
      ]
     },
     "metadata": {},
     "output_type": "display_data"
    }
   ],
   "source": [
    "df6.write.csv('s3://project021021/out/olist_classified_public_dataset_final.csv')"
   ]
  },
  {
   "cell_type": "code",
   "execution_count": 34,
   "id": "220221e5",
   "metadata": {},
   "outputs": [
    {
     "data": {
      "application/vnd.jupyter.widget-view+json": {
       "model_id": "d811d024f8df46f2b2f6ed25e965a06f",
       "version_major": 2,
       "version_minor": 0
      },
      "text/plain": [
       "VBox()"
      ]
     },
     "metadata": {},
     "output_type": "display_data"
    },
    {
     "data": {
      "application/vnd.jupyter.widget-view+json": {
       "model_id": "",
       "version_major": 2,
       "version_minor": 0
      },
      "text/plain": [
       "FloatProgress(value=0.0, bar_style='info', description='Progress:', layout=Layout(height='25px', width='50%'),…"
      ]
     },
     "metadata": {},
     "output_type": "display_data"
    },
    {
     "name": "stdout",
     "output_type": "stream",
     "text": [
      "root\n",
      " |-- _c0: integer (nullable = true)\n",
      " |-- id: integer (nullable = true)\n",
      " |-- order_status: string (nullable = true)\n",
      " |-- order_products_value: double (nullable = true)\n",
      " |-- order_freight_value: double (nullable = true)\n",
      " |-- order_items_qty: integer (nullable = true)\n",
      " |-- order_sellers_qty: integer (nullable = true)\n",
      " |-- order_purchase_timestamp: timestamp (nullable = true)\n",
      " |-- order_aproved_at: timestamp (nullable = true)\n",
      " |-- order_estimated_delivery_date: timestamp (nullable = true)\n",
      " |-- order_delivered_customer_date: timestamp (nullable = true)\n",
      " |-- customer_city: string (nullable = true)\n",
      " |-- customer_state: string (nullable = true)\n",
      " |-- customer_zip_code_prefix: integer (nullable = true)\n",
      " |-- product_category_name: string (nullable = true)\n",
      " |-- product_name_lenght: integer (nullable = true)\n",
      " |-- product_description_lenght: integer (nullable = true)\n",
      " |-- product_photos_qty: integer (nullable = true)\n",
      " |-- review_score: integer (nullable = true)\n",
      " |-- review_comment_title: string (nullable = true)\n",
      " |-- review_comment_message: string (nullable = true)\n",
      " |-- review_creation_date: timestamp (nullable = true)\n",
      " |-- review_answer_timestamp: string (nullable = true)\n",
      " |-- ts: timestamp (nullable = true)\n",
      " |-- datetype: date (nullable = true)\n",
      " |-- week_of_month: string (nullable = true)\n",
      " |-- day_of_week: integer (nullable = true)\n",
      " |-- order_deliver_timestamp: timestamp (nullable = true)\n",
      " |-- order_purchase_timestamp_conv: timestamp (nullable = true)\n",
      " |-- deliver_time: long (nullable = true)"
     ]
    }
   ],
   "source": [
    "df6.printSchema()"
   ]
  },
  {
   "cell_type": "code",
   "execution_count": null,
   "id": "bac5eaaa",
   "metadata": {},
   "outputs": [],
   "source": []
  }
 ],
 "metadata": {
  "kernelspec": {
   "display_name": "PySpark",
   "language": "",
   "name": "pysparkkernel"
  },
  "language_info": {
   "codemirror_mode": {
    "name": "python",
    "version": 3
   },
   "mimetype": "text/x-python",
   "name": "pyspark",
   "pygments_lexer": "python3"
  }
 },
 "nbformat": 4,
 "nbformat_minor": 5
}
