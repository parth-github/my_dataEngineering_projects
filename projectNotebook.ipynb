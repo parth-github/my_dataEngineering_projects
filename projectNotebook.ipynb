{
 "cells": [
  {
   "cell_type": "code",
   "execution_count": 2,
   "id": "c77e563e",
   "metadata": {},
   "outputs": [
    {
     "data": {
      "application/vnd.jupyter.widget-view+json": {
       "model_id": "ce1ce0edc2f44849b04632073acc55c2",
       "version_major": 2,
       "version_minor": 0
      },
      "text/plain": [
       "VBox()"
      ]
     },
     "metadata": {},
     "output_type": "display_data"
    },
    {
     "data": {
      "application/vnd.jupyter.widget-view+json": {
       "model_id": "",
       "version_major": 2,
       "version_minor": 0
      },
      "text/plain": [
       "FloatProgress(value=0.0, bar_style='info', description='Progress:', layout=Layout(height='25px', width='50%'),…"
      ]
     },
     "metadata": {},
     "output_type": "display_data"
    },
    {
     "name": "stdout",
     "output_type": "stream",
     "text": [
      "<pyspark.sql.session.SparkSession object at 0x7fe5f717b590>"
     ]
    }
   ],
   "source": [
    "spark"
   ]
  },
  {
   "cell_type": "code",
   "execution_count": 3,
   "id": "0ca812ea",
   "metadata": {},
   "outputs": [
    {
     "data": {
      "application/vnd.jupyter.widget-view+json": {
       "model_id": "5f0a78c2f4414c8882f0108d99ac1a74",
       "version_major": 2,
       "version_minor": 0
      },
      "text/plain": [
       "VBox()"
      ]
     },
     "metadata": {},
     "output_type": "display_data"
    },
    {
     "data": {
      "application/vnd.jupyter.widget-view+json": {
       "model_id": "",
       "version_major": 2,
       "version_minor": 0
      },
      "text/plain": [
       "FloatProgress(value=0.0, bar_style='info', description='Progress:', layout=Layout(height='25px', width='50%'),…"
      ]
     },
     "metadata": {},
     "output_type": "display_data"
    },
    {
     "name": "stderr",
     "output_type": "stream",
     "text": [
      "An error was encountered:\n",
      "invalid syntax (<stdin>, line 1)\n",
      "  File \"<stdin>\", line 1\n",
      "    !hdfs dfs -ls\n",
      "    ^\n",
      "SyntaxError: invalid syntax\n",
      "\n"
     ]
    }
   ],
   "source": [
    "!hdfs dfs -ls"
   ]
  },
  {
   "cell_type": "code",
   "execution_count": 8,
   "id": "3398e1f5",
   "metadata": {},
   "outputs": [
    {
     "data": {
      "application/vnd.jupyter.widget-view+json": {
       "model_id": "884bc2bd71264eaf8879ff1e4905db47",
       "version_major": 2,
       "version_minor": 0
      },
      "text/plain": [
       "VBox()"
      ]
     },
     "metadata": {},
     "output_type": "display_data"
    },
    {
     "data": {
      "application/vnd.jupyter.widget-view+json": {
       "model_id": "",
       "version_major": 2,
       "version_minor": 0
      },
      "text/plain": [
       "FloatProgress(value=0.0, bar_style='info', description='Progress:', layout=Layout(height='25px', width='50%'),…"
      ]
     },
     "metadata": {},
     "output_type": "display_data"
    }
   ],
   "source": [
    "df = spark.read.csv('s3://aws-emr-resources-678153616337-us-east-1/olist_classified_public_dataset.csv', header=True, inferSchema=True)"
   ]
  },
  {
   "cell_type": "code",
   "execution_count": 9,
   "id": "32c93ed9",
   "metadata": {},
   "outputs": [
    {
     "data": {
      "application/vnd.jupyter.widget-view+json": {
       "model_id": "8bc339c5fe034d018b2d91ba4c0737c1",
       "version_major": 2,
       "version_minor": 0
      },
      "text/plain": [
       "VBox()"
      ]
     },
     "metadata": {},
     "output_type": "display_data"
    },
    {
     "data": {
      "application/vnd.jupyter.widget-view+json": {
       "model_id": "",
       "version_major": 2,
       "version_minor": 0
      },
      "text/plain": [
       "FloatProgress(value=0.0, bar_style='info', description='Progress:', layout=Layout(height='25px', width='50%'),…"
      ]
     },
     "metadata": {},
     "output_type": "display_data"
    },
    {
     "name": "stdout",
     "output_type": "stream",
     "text": [
      "root\n",
      " |-- _c0: integer (nullable = true)\n",
      " |-- id: integer (nullable = true)\n",
      " |-- order_status: string (nullable = true)\n",
      " |-- order_products_value: double (nullable = true)\n",
      " |-- order_freight_value: double (nullable = true)\n",
      " |-- order_items_qty: integer (nullable = true)\n",
      " |-- order_sellers_qty: integer (nullable = true)\n",
      " |-- order_purchase_timestamp: timestamp (nullable = true)\n",
      " |-- order_aproved_at: timestamp (nullable = true)\n",
      " |-- order_estimated_delivery_date: timestamp (nullable = true)\n",
      " |-- order_delivered_customer_date: timestamp (nullable = true)\n",
      " |-- customer_city: string (nullable = true)\n",
      " |-- customer_state: string (nullable = true)\n",
      " |-- customer_zip_code_prefix: integer (nullable = true)\n",
      " |-- product_category_name: string (nullable = true)\n",
      " |-- product_name_lenght: integer (nullable = true)\n",
      " |-- product_description_lenght: integer (nullable = true)\n",
      " |-- product_photos_qty: integer (nullable = true)\n",
      " |-- review_score: integer (nullable = true)\n",
      " |-- review_comment_title: string (nullable = true)\n",
      " |-- review_comment_message: string (nullable = true)\n",
      " |-- review_creation_date: timestamp (nullable = true)\n",
      " |-- review_answer_timestamp: string (nullable = true)\n",
      " |-- votes_before_estimate: integer (nullable = true)\n",
      " |-- votes_delayed: integer (nullable = true)\n",
      " |-- votes_low_quality: integer (nullable = true)\n",
      " |-- votes_return: integer (nullable = true)\n",
      " |-- votes_not_as_anounced: integer (nullable = true)\n",
      " |-- votes_partial_delivery: integer (nullable = true)\n",
      " |-- votes_other_delivery: integer (nullable = true)\n",
      " |-- votes_other_order: integer (nullable = true)\n",
      " |-- votes_satisfied: integer (nullable = true)\n",
      " |-- most_voted_subclass: string (nullable = true)\n",
      " |-- most_voted_class: string (nullable = true)"
     ]
    }
   ],
   "source": [
    "df.printSchema()"
   ]
  },
  {
   "cell_type": "code",
   "execution_count": 12,
   "id": "5d128ba5",
   "metadata": {},
   "outputs": [
    {
     "data": {
      "application/vnd.jupyter.widget-view+json": {
       "model_id": "e2cb26cb3d254d08a5d9f565ff693ef1",
       "version_major": 2,
       "version_minor": 0
      },
      "text/plain": [
       "VBox()"
      ]
     },
     "metadata": {},
     "output_type": "display_data"
    },
    {
     "data": {
      "application/vnd.jupyter.widget-view+json": {
       "model_id": "",
       "version_major": 2,
       "version_minor": 0
      },
      "text/plain": [
       "FloatProgress(value=0.0, bar_style='info', description='Progress:', layout=Layout(height='25px', width='50%'),…"
      ]
     },
     "metadata": {},
     "output_type": "display_data"
    },
    {
     "name": "stdout",
     "output_type": "stream",
     "text": [
      "+---+---+------------+--------------------+-------------------+---------------+-----------------+------------------------+--------------------+-----------------------------+-----------------------------+---------------+--------------+------------------------+---------------------+-------------------+--------------------------+------------------+------------+--------------------+----------------------+--------------------+-----------------------+---------------------+-------------+-----------------+------------+---------------------+----------------------+--------------------+-----------------+---------------+-------------------+--------------------+\n",
      "|_c0| id|order_status|order_products_value|order_freight_value|order_items_qty|order_sellers_qty|order_purchase_timestamp|    order_aproved_at|order_estimated_delivery_date|order_delivered_customer_date|  customer_city|customer_state|customer_zip_code_prefix|product_category_name|product_name_lenght|product_description_lenght|product_photos_qty|review_score|review_comment_title|review_comment_message|review_creation_date|review_answer_timestamp|votes_before_estimate|votes_delayed|votes_low_quality|votes_return|votes_not_as_anounced|votes_partial_delivery|votes_other_delivery|votes_other_order|votes_satisfied|most_voted_subclass|    most_voted_class|\n",
      "+---+---+------------+--------------------+-------------------+---------------+-----------------+------------------------+--------------------+-----------------------------+-----------------------------+---------------+--------------+------------------------+---------------------+-------------------+--------------------------+------------------+------------+--------------------+----------------------+--------------------+-----------------------+---------------------+-------------+-----------------+------------+---------------------+----------------------+--------------------+-----------------+---------------+-------------------+--------------------+\n",
      "|  0|  1|   delivered|               89.99|              14.38|              1|                1|     2017-08-30 11:41:01|2017-08-30 11:55:...|          2017-09-21 00:00:00|         2017-09-08 20:35:...| Belo Horizonte|            MG|                     308|         beleza_saude|                 59|                       492|                 3|           5|                null|            tudo certo| 2017-09-09 00:00:00|   2017-09-10 03:27:...|                    0|            0|                0|           0|                    0|                     0|                   0|                0|              3|         satisfeito|satisfeito_com_pe...|\n",
      "|  1|  2|   delivered|                69.0|              15.23|              1|                1|     2017-09-26 09:13:36|2017-09-26 09:28:...|          2017-10-24 00:00:00|         2017-09-29 21:13:...|Pocos de Caldas|            MG|                     377|           brinquedos|                 50|                       679|                 4|           5|                null|  o produto chegou ...| 2017-09-30 00:00:00|   2017-10-03 05:34:...|                    3|            0|                0|           0|                    0|                     0|                   0|                0|              0|        antes_prazo|satisfeito_com_pe...|\n",
      "+---+---+------------+--------------------+-------------------+---------------+-----------------+------------------------+--------------------+-----------------------------+-----------------------------+---------------+--------------+------------------------+---------------------+-------------------+--------------------------+------------------+------------+--------------------+----------------------+--------------------+-----------------------+---------------------+-------------+-----------------+------------+---------------------+----------------------+--------------------+-----------------+---------------+-------------------+--------------------+\n",
      "only showing top 2 rows"
     ]
    }
   ],
   "source": [
    "df.show(2)"
   ]
  },
  {
   "cell_type": "code",
   "execution_count": 20,
   "id": "19a2e257",
   "metadata": {},
   "outputs": [
    {
     "data": {
      "application/vnd.jupyter.widget-view+json": {
       "model_id": "5dcbe19d66f0408da5f8864d2c04968f",
       "version_major": 2,
       "version_minor": 0
      },
      "text/plain": [
       "VBox()"
      ]
     },
     "metadata": {},
     "output_type": "display_data"
    },
    {
     "data": {
      "application/vnd.jupyter.widget-view+json": {
       "model_id": "",
       "version_major": 2,
       "version_minor": 0
      },
      "text/plain": [
       "FloatProgress(value=0.0, bar_style='info', description='Progress:', layout=Layout(height='25px', width='50%'),…"
      ]
     },
     "metadata": {},
     "output_type": "display_data"
    }
   ],
   "source": [
    "from pyspark.sql.functions import *\n",
    "\n",
    "df2 = df.withColumn(\"ts\", to_timestamp(col(\"order_purchase_timestamp\"))) \\\n",
    "    .withColumn(\"datetype\", to_date(col(\"order_purchase_timestamp\"),\"yyyy-MM-dd\"))"
   ]
  },
  {
   "cell_type": "code",
   "execution_count": 22,
   "id": "4b55a2ed",
   "metadata": {},
   "outputs": [
    {
     "data": {
      "application/vnd.jupyter.widget-view+json": {
       "model_id": "53859f281ac44a3e814e68ca8b38c12b",
       "version_major": 2,
       "version_minor": 0
      },
      "text/plain": [
       "VBox()"
      ]
     },
     "metadata": {},
     "output_type": "display_data"
    },
    {
     "data": {
      "application/vnd.jupyter.widget-view+json": {
       "model_id": "",
       "version_major": 2,
       "version_minor": 0
      },
      "text/plain": [
       "FloatProgress(value=0.0, bar_style='info', description='Progress:', layout=Layout(height='25px', width='50%'),…"
      ]
     },
     "metadata": {},
     "output_type": "display_data"
    },
    {
     "name": "stdout",
     "output_type": "stream",
     "text": [
      "+----------+-------------------+\n",
      "|  datetype|                 ts|\n",
      "+----------+-------------------+\n",
      "|2017-08-30|2017-08-30 11:41:01|\n",
      "|2017-09-26|2017-09-26 09:13:36|\n",
      "|2018-01-15|2018-01-15 15:50:42|\n",
      "|2018-02-04|2018-02-04 11:16:42|\n",
      "|2017-12-07|2017-12-07 11:58:42|\n",
      "+----------+-------------------+\n",
      "only showing top 5 rows"
     ]
    }
   ],
   "source": [
    "df2.select('datetype','ts').show(5)"
   ]
  },
  {
   "cell_type": "code",
   "execution_count": 33,
   "id": "cdab610e",
   "metadata": {},
   "outputs": [
    {
     "data": {
      "application/vnd.jupyter.widget-view+json": {
       "model_id": "a6d6325c987841848993475fb44b8b94",
       "version_major": 2,
       "version_minor": 0
      },
      "text/plain": [
       "VBox()"
      ]
     },
     "metadata": {},
     "output_type": "display_data"
    },
    {
     "data": {
      "application/vnd.jupyter.widget-view+json": {
       "model_id": "",
       "version_major": 2,
       "version_minor": 0
      },
      "text/plain": [
       "FloatProgress(value=0.0, bar_style='info', description='Progress:', layout=Layout(height='25px', width='50%'),…"
      ]
     },
     "metadata": {},
     "output_type": "display_data"
    }
   ],
   "source": [
    "df3 = df2.withColumn('week_of_month', date_format(col('ts'), 'W')) \\\n",
    "    .withColumn('day_of_week', dayofweek(col('ts')))"
   ]
  },
  {
   "cell_type": "code",
   "execution_count": 35,
   "id": "4d7f3e33",
   "metadata": {},
   "outputs": [
    {
     "data": {
      "application/vnd.jupyter.widget-view+json": {
       "model_id": "d3a467915f804feab1a5e13d37bacbe4",
       "version_major": 2,
       "version_minor": 0
      },
      "text/plain": [
       "VBox()"
      ]
     },
     "metadata": {},
     "output_type": "display_data"
    },
    {
     "data": {
      "application/vnd.jupyter.widget-view+json": {
       "model_id": "",
       "version_major": 2,
       "version_minor": 0
      },
      "text/plain": [
       "FloatProgress(value=0.0, bar_style='info', description='Progress:', layout=Layout(height='25px', width='50%'),…"
      ]
     },
     "metadata": {},
     "output_type": "display_data"
    },
    {
     "name": "stdout",
     "output_type": "stream",
     "text": [
      "+-------------+-----------+\n",
      "|week_of_month|day_of_week|\n",
      "+-------------+-----------+\n",
      "|            5|          4|\n",
      "|            5|          3|\n",
      "|            3|          2|\n",
      "|            2|          1|\n",
      "|            2|          5|\n",
      "|            1|          5|\n",
      "|            5|          1|\n",
      "|            2|          6|\n",
      "|            2|          3|\n",
      "|            5|          4|\n",
      "+-------------+-----------+\n",
      "only showing top 10 rows"
     ]
    }
   ],
   "source": [
    "df3.select('week_of_month', 'day_of_week').show(10)"
   ]
  },
  {
   "cell_type": "code",
   "execution_count": 43,
   "id": "e5f1c0a0",
   "metadata": {},
   "outputs": [
    {
     "data": {
      "application/vnd.jupyter.widget-view+json": {
       "model_id": "2450be171cdb4fdba3bb38269e57e149",
       "version_major": 2,
       "version_minor": 0
      },
      "text/plain": [
       "VBox()"
      ]
     },
     "metadata": {},
     "output_type": "display_data"
    },
    {
     "data": {
      "application/vnd.jupyter.widget-view+json": {
       "model_id": "",
       "version_major": 2,
       "version_minor": 0
      },
      "text/plain": [
       "FloatProgress(value=0.0, bar_style='info', description='Progress:', layout=Layout(height='25px', width='50%'),…"
      ]
     },
     "metadata": {},
     "output_type": "display_data"
    }
   ],
   "source": [
    "#df3.printSchema()\n",
    "df3.write.format('csv').option('header','true').save('s3://aws-emr-resources-678153616337-us-east-1/olist_classified_public_dataset_1')\n",
    "\n",
    "#'s3://aws-emr-resources-678153616337-us-east-1/olist_classified_public_dataset_1/part-00000-aceb242a-0493-4f7a-b1d0-5f9c82fe151d-c000.csv"
   ]
  },
  {
   "cell_type": "code",
   "execution_count": 39,
   "id": "fecc588e",
   "metadata": {},
   "outputs": [
    {
     "data": {
      "application/vnd.jupyter.widget-view+json": {
       "model_id": "195d2ed063da4f2b8da112fb34ef3678",
       "version_major": 2,
       "version_minor": 0
      },
      "text/plain": [
       "VBox()"
      ]
     },
     "metadata": {},
     "output_type": "display_data"
    },
    {
     "data": {
      "application/vnd.jupyter.widget-view+json": {
       "model_id": "",
       "version_major": 2,
       "version_minor": 0
      },
      "text/plain": [
       "FloatProgress(value=0.0, bar_style='info', description='Progress:', layout=Layout(height='25px', width='50%'),…"
      ]
     },
     "metadata": {},
     "output_type": "display_data"
    }
   ],
   "source": [
    "# order_products_value, order_status\n",
    "# day_of_week, week_of_month\n",
    "# customer_city\n",
    "df4 = df3.groupBy('order_status', 'week_of_month', 'day_of_week', 'customer_city').count()"
   ]
  },
  {
   "cell_type": "code",
   "execution_count": 41,
   "id": "696d0b11",
   "metadata": {},
   "outputs": [
    {
     "data": {
      "application/vnd.jupyter.widget-view+json": {
       "model_id": "8d4ca0c2fb0440a2b9417920036b9a8b",
       "version_major": 2,
       "version_minor": 0
      },
      "text/plain": [
       "VBox()"
      ]
     },
     "metadata": {},
     "output_type": "display_data"
    },
    {
     "data": {
      "application/vnd.jupyter.widget-view+json": {
       "model_id": "",
       "version_major": 2,
       "version_minor": 0
      },
      "text/plain": [
       "FloatProgress(value=0.0, bar_style='info', description='Progress:', layout=Layout(height='25px', width='50%'),…"
      ]
     },
     "metadata": {},
     "output_type": "display_data"
    },
    {
     "name": "stdout",
     "output_type": "stream",
     "text": [
      "+------------+-------------+-----------+-----------------+-----+\n",
      "|order_status|week_of_month|day_of_week|    customer_city|count|\n",
      "+------------+-------------+-----------+-----------------+-----+\n",
      "|   delivered|            5|          6|Sao Mateus do Sul|    3|\n",
      "|   delivered|            2|          2|  Pindamonhangaba|    1|\n",
      "|   delivered|            3|          1|         BRASILIA|    1|\n",
      "|   delivered|            4|          3|         BRASILIA|    2|\n",
      "|   delivered|            2|          5|  Duque de Caxias|    2|\n",
      "|   delivered|            2|          2|Braganca Paulista|    1|\n",
      "|   delivered|            1|          7|       Ananindeua|    1|\n",
      "|   delivered|            5|          7|        Sao Paulo|    3|\n",
      "|   delivered|            5|          4|        Arapiraca|    1|\n",
      "|   delivered|            3|          3|           Canoas|    1|\n",
      "|   delivered|            3|          1|           Sabara|    1|\n",
      "|   delivered|            3|          4|             Maua|    1|\n",
      "|   delivered|            2|          5|       Vila Velha|    1|\n",
      "|   delivered|            3|          4|            Bauru|    1|\n",
      "|   delivered|            3|          5|           Palmas|    1|\n",
      "|   delivered|            4|          6|  Sapucaia do Sul|    1|\n",
      "|   delivered|            4|          7|        Fortaleza|    1|\n",
      "|   delivered|            5|          6|      Sete Lagoas|    1|\n",
      "|   delivered|            5|          5|   RIO DE JANEIRO|    4|\n",
      "|   delivered|            2|          2|        SAO PAULO|    2|\n",
      "+------------+-------------+-----------+-----------------+-----+\n",
      "only showing top 20 rows"
     ]
    }
   ],
   "source": [
    "df4.show()"
   ]
  },
  {
   "cell_type": "code",
   "execution_count": 44,
   "id": "4c1e91d6",
   "metadata": {},
   "outputs": [
    {
     "data": {
      "application/vnd.jupyter.widget-view+json": {
       "model_id": "6c9a44ba2cdd4442a4c119db59ca0ead",
       "version_major": 2,
       "version_minor": 0
      },
      "text/plain": [
       "VBox()"
      ]
     },
     "metadata": {},
     "output_type": "display_data"
    },
    {
     "data": {
      "application/vnd.jupyter.widget-view+json": {
       "model_id": "",
       "version_major": 2,
       "version_minor": 0
      },
      "text/plain": [
       "FloatProgress(value=0.0, bar_style='info', description='Progress:', layout=Layout(height='25px', width='50%'),…"
      ]
     },
     "metadata": {},
     "output_type": "display_data"
    }
   ],
   "source": [
    "df4.write.format('csv').option('header','true').save('s3://aws-emr-resources-678153616337-us-east-1/olist_classified_public_dataset_2')\n",
    "\n",
    "#'s3://aws-emr-resources-678153616337-us-east-1/olist_classified_public_dataset_2/part-00000-aceb242a-0493-4f7a-b1d0-5f9c82fe151d-c000.csv'"
   ]
  },
  {
   "cell_type": "code",
   "execution_count": 96,
   "id": "85bb683d",
   "metadata": {},
   "outputs": [],
   "source": [
    "average_review_score = df3.select(avg('review_score')).first()[0]"
   ]
  },
  {
   "cell_type": "code",
   "execution_count": 97,
   "id": "e7dc53ec",
   "metadata": {},
   "outputs": [
    {
     "data": {
      "application/vnd.jupyter.widget-view+json": {
       "model_id": "4ffd1b8dc4d049f59faafb0a1ace87de",
       "version_major": 2,
       "version_minor": 0
      },
      "text/plain": [
       "VBox()"
      ]
     },
     "metadata": {},
     "output_type": "display_data"
    },
    {
     "data": {
      "application/vnd.jupyter.widget-view+json": {
       "model_id": "",
       "version_major": 2,
       "version_minor": 0
      },
      "text/plain": [
       "FloatProgress(value=0.0, bar_style='info', description='Progress:', layout=Layout(height='25px', width='50%'),…"
      ]
     },
     "metadata": {},
     "output_type": "display_data"
    },
    {
     "name": "stdout",
     "output_type": "stream",
     "text": [
      "3.5228794642857144"
     ]
    }
   ],
   "source": [
    "average_review_score"
   ]
  },
  {
   "cell_type": "code",
   "execution_count": 64,
   "id": "c7e5db04",
   "metadata": {},
   "outputs": [
    {
     "data": {
      "application/vnd.jupyter.widget-view+json": {
       "model_id": "6a8a60182ea049c99849556f960c1fe3",
       "version_major": 2,
       "version_minor": 0
      },
      "text/plain": [
       "VBox()"
      ]
     },
     "metadata": {},
     "output_type": "display_data"
    },
    {
     "data": {
      "application/vnd.jupyter.widget-view+json": {
       "model_id": "",
       "version_major": 2,
       "version_minor": 0
      },
      "text/plain": [
       "FloatProgress(value=0.0, bar_style='info', description='Progress:', layout=Layout(height='25px', width='50%'),…"
      ]
     },
     "metadata": {},
     "output_type": "display_data"
    },
    {
     "name": "stdout",
     "output_type": "stream",
     "text": [
      "3584"
     ]
    }
   ],
   "source": [
    "approved_order_count = df3.filter(col('order_aproved_at').isNotNull() ).count()\n",
    "approved_order_count"
   ]
  },
  {
   "cell_type": "code",
   "execution_count": 92,
   "id": "45db1274",
   "metadata": {},
   "outputs": [
    {
     "data": {
      "application/vnd.jupyter.widget-view+json": {
       "model_id": "484824fdd1d9472983db63729e0385f5",
       "version_major": 2,
       "version_minor": 0
      },
      "text/plain": [
       "VBox()"
      ]
     },
     "metadata": {},
     "output_type": "display_data"
    },
    {
     "data": {
      "application/vnd.jupyter.widget-view+json": {
       "model_id": "",
       "version_major": 2,
       "version_minor": 0
      },
      "text/plain": [
       "FloatProgress(value=0.0, bar_style='info', description='Progress:', layout=Layout(height='25px', width='50%'),…"
      ]
     },
     "metadata": {},
     "output_type": "display_data"
    }
   ],
   "source": [
    "total_order_value = df3.agg(sum('order_products_value')).first()[0]\n"
   ]
  },
  {
   "cell_type": "code",
   "execution_count": 93,
   "id": "27b5518c",
   "metadata": {},
   "outputs": [
    {
     "data": {
      "application/vnd.jupyter.widget-view+json": {
       "model_id": "4a52a911fe964d83a6e634874869aa56",
       "version_major": 2,
       "version_minor": 0
      },
      "text/plain": [
       "VBox()"
      ]
     },
     "metadata": {},
     "output_type": "display_data"
    },
    {
     "data": {
      "application/vnd.jupyter.widget-view+json": {
       "model_id": "",
       "version_major": 2,
       "version_minor": 0
      },
      "text/plain": [
       "FloatProgress(value=0.0, bar_style='info', description='Progress:', layout=Layout(height='25px', width='50%'),…"
      ]
     },
     "metadata": {},
     "output_type": "display_data"
    },
    {
     "name": "stdout",
     "output_type": "stream",
     "text": [
      "477538.72000000544"
     ]
    }
   ],
   "source": [
    "total_order_value"
   ]
  },
  {
   "cell_type": "code",
   "execution_count": 95,
   "id": "200f5f23",
   "metadata": {},
   "outputs": [
    {
     "data": {
      "application/vnd.jupyter.widget-view+json": {
       "model_id": "a4a65fdf7148441583d976c8e0325f49",
       "version_major": 2,
       "version_minor": 0
      },
      "text/plain": [
       "VBox()"
      ]
     },
     "metadata": {},
     "output_type": "display_data"
    },
    {
     "data": {
      "application/vnd.jupyter.widget-view+json": {
       "model_id": "",
       "version_major": 2,
       "version_minor": 0
      },
      "text/plain": [
       "FloatProgress(value=0.0, bar_style='info', description='Progress:', layout=Layout(height='25px', width='50%'),…"
      ]
     },
     "metadata": {},
     "output_type": "display_data"
    },
    {
     "name": "stdout",
     "output_type": "stream",
     "text": [
      "Average order approval = 133.24183035714438"
     ]
    }
   ],
   "source": [
    "print(f'Average order approval = {total_order_value/approved_order_count}')"
   ]
  },
  {
   "cell_type": "code",
   "execution_count": 99,
   "id": "099281b7",
   "metadata": {},
   "outputs": [
    {
     "data": {
      "application/vnd.jupyter.widget-view+json": {
       "model_id": "67a547e68d3c4c0daece1faedebeedf4",
       "version_major": 2,
       "version_minor": 0
      },
      "text/plain": [
       "VBox()"
      ]
     },
     "metadata": {},
     "output_type": "display_data"
    },
    {
     "data": {
      "application/vnd.jupyter.widget-view+json": {
       "model_id": "",
       "version_major": 2,
       "version_minor": 0
      },
      "text/plain": [
       "FloatProgress(value=0.0, bar_style='info', description='Progress:', layout=Layout(height='25px', width='50%'),…"
      ]
     },
     "metadata": {},
     "output_type": "display_data"
    }
   ],
   "source": [
    "average_frieght_value = df3.select(avg('order_freight_value')).first()[0]"
   ]
  },
  {
   "cell_type": "code",
   "execution_count": 100,
   "id": "6ddf6311",
   "metadata": {},
   "outputs": [
    {
     "data": {
      "application/vnd.jupyter.widget-view+json": {
       "model_id": "8b95121c2d614572a384ef10ca27e3e9",
       "version_major": 2,
       "version_minor": 0
      },
      "text/plain": [
       "VBox()"
      ]
     },
     "metadata": {},
     "output_type": "display_data"
    },
    {
     "data": {
      "application/vnd.jupyter.widget-view+json": {
       "model_id": "",
       "version_major": 2,
       "version_minor": 0
      },
      "text/plain": [
       "FloatProgress(value=0.0, bar_style='info', description='Progress:', layout=Layout(height='25px', width='50%'),…"
      ]
     },
     "metadata": {},
     "output_type": "display_data"
    },
    {
     "name": "stdout",
     "output_type": "stream",
     "text": [
      "22.40033761160717"
     ]
    }
   ],
   "source": [
    "average_frieght_value"
   ]
  },
  {
   "cell_type": "code",
   "execution_count": 110,
   "id": "add08c13",
   "metadata": {},
   "outputs": [
    {
     "data": {
      "application/vnd.jupyter.widget-view+json": {
       "model_id": "46554febff8f4ee28c5592fea9d85aa9",
       "version_major": 2,
       "version_minor": 0
      },
      "text/plain": [
       "VBox()"
      ]
     },
     "metadata": {},
     "output_type": "display_data"
    },
    {
     "data": {
      "application/vnd.jupyter.widget-view+json": {
       "model_id": "",
       "version_major": 2,
       "version_minor": 0
      },
      "text/plain": [
       "FloatProgress(value=0.0, bar_style='info', description='Progress:', layout=Layout(height='25px', width='50%'),…"
      ]
     },
     "metadata": {},
     "output_type": "display_data"
    },
    {
     "name": "stdout",
     "output_type": "stream",
     "text": [
      "(3.5228794642857144, 22.40033761160717, 133.24183035714438)"
     ]
    }
   ],
   "source": [
    "df3.select(avg('review_score').alias('average_review_score'), \n",
    "           avg('order_freight_value').alias('average_frieght_value'), \n",
    "           avg('order_products_value').alias('Average_order_approval')) \\\n",
    ".first()[0:3]"
   ]
  },
  {
   "cell_type": "code",
   "execution_count": 114,
   "id": "69e6c5a1",
   "metadata": {},
   "outputs": [
    {
     "data": {
      "application/vnd.jupyter.widget-view+json": {
       "model_id": "726fc4eef0854399aa9292f1fa41b66e",
       "version_major": 2,
       "version_minor": 0
      },
      "text/plain": [
       "VBox()"
      ]
     },
     "metadata": {},
     "output_type": "display_data"
    },
    {
     "data": {
      "application/vnd.jupyter.widget-view+json": {
       "model_id": "",
       "version_major": 2,
       "version_minor": 0
      },
      "text/plain": [
       "FloatProgress(value=0.0, bar_style='info', description='Progress:', layout=Layout(height='25px', width='50%'),…"
      ]
     },
     "metadata": {},
     "output_type": "display_data"
    }
   ],
   "source": [
    "df5 = df3.withColumn('order_deliver_timestamp', to_timestamp(col('order_delivered_customer_date'))) \\\n",
    "        .withColumn('order_purchase_timestamp_conv', to_timestamp(col('order_purchase_timestamp')))"
   ]
  },
  {
   "cell_type": "code",
   "execution_count": 115,
   "id": "b6b9d889",
   "metadata": {},
   "outputs": [
    {
     "data": {
      "application/vnd.jupyter.widget-view+json": {
       "model_id": "1179569d261d42f68db77261d3e71623",
       "version_major": 2,
       "version_minor": 0
      },
      "text/plain": [
       "VBox()"
      ]
     },
     "metadata": {},
     "output_type": "display_data"
    },
    {
     "data": {
      "application/vnd.jupyter.widget-view+json": {
       "model_id": "",
       "version_major": 2,
       "version_minor": 0
      },
      "text/plain": [
       "FloatProgress(value=0.0, bar_style='info', description='Progress:', layout=Layout(height='25px', width='50%'),…"
      ]
     },
     "metadata": {},
     "output_type": "display_data"
    },
    {
     "name": "stdout",
     "output_type": "stream",
     "text": [
      "+-----------------------+-----------------------------+\n",
      "|order_deliver_timestamp|order_purchase_timestamp_conv|\n",
      "+-----------------------+-----------------------------+\n",
      "|   2017-09-08 20:35:...|          2017-08-30 11:41:01|\n",
      "|   2017-09-29 21:13:...|          2017-09-26 09:13:36|\n",
      "|   2018-01-23 17:51:...|          2018-01-15 15:50:42|\n",
      "|   2018-02-20 19:38:...|          2018-02-04 11:16:42|\n",
      "|   2017-12-19 22:33:...|          2017-12-07 11:58:42|\n",
      "|   2017-11-09 19:09:...|          2017-11-02 11:33:03|\n",
      "|   2017-12-19 14:13:...|          2017-11-26 23:58:24|\n",
      "|   2017-12-26 16:09:...|          2017-12-08 21:13:04|\n",
      "|   2017-07-10 16:35:...|          2017-07-04 16:12:36|\n",
      "|   2017-12-18 15:22:...|          2017-11-29 04:25:45|\n",
      "+-----------------------+-----------------------------+\n",
      "only showing top 10 rows"
     ]
    }
   ],
   "source": [
    "df5.select('order_deliver_timestamp', 'order_purchase_timestamp_conv').show(10)"
   ]
  },
  {
   "cell_type": "code",
   "execution_count": 125,
   "id": "8056de73",
   "metadata": {},
   "outputs": [
    {
     "data": {
      "application/vnd.jupyter.widget-view+json": {
       "model_id": "6946157c7372446c998bc40fa3076fdc",
       "version_major": 2,
       "version_minor": 0
      },
      "text/plain": [
       "VBox()"
      ]
     },
     "metadata": {},
     "output_type": "display_data"
    },
    {
     "data": {
      "application/vnd.jupyter.widget-view+json": {
       "model_id": "",
       "version_major": 2,
       "version_minor": 0
      },
      "text/plain": [
       "FloatProgress(value=0.0, bar_style='info', description='Progress:', layout=Layout(height='25px', width='50%'),…"
      ]
     },
     "metadata": {},
     "output_type": "display_data"
    }
   ],
   "source": [
    "df6 = df5.withColumn('deliver_time', \n",
    "               col('order_deliver_timestamp').cast('long')- \n",
    "               col('order_purchase_timestamp_conv').cast('long'))\n"
   ]
  },
  {
   "cell_type": "code",
   "execution_count": 127,
   "id": "3770ca2f",
   "metadata": {},
   "outputs": [
    {
     "data": {
      "application/vnd.jupyter.widget-view+json": {
       "model_id": "b123bce1f5c74bde84b2f0b3ae305304",
       "version_major": 2,
       "version_minor": 0
      },
      "text/plain": [
       "VBox()"
      ]
     },
     "metadata": {},
     "output_type": "display_data"
    },
    {
     "data": {
      "application/vnd.jupyter.widget-view+json": {
       "model_id": "",
       "version_major": 2,
       "version_minor": 0
      },
      "text/plain": [
       "FloatProgress(value=0.0, bar_style='info', description='Progress:', layout=Layout(height='25px', width='50%'),…"
      ]
     },
     "metadata": {},
     "output_type": "display_data"
    },
    {
     "name": "stdout",
     "output_type": "stream",
     "text": [
      "Row(deliver_time=809666)"
     ]
    }
   ],
   "source": [
    "df6.select('deliver_time').first()\n",
    "#df5.select(avg('deliver_time'))"
   ]
  },
  {
   "cell_type": "code",
   "execution_count": 162,
   "id": "7507ff27",
   "metadata": {},
   "outputs": [
    {
     "data": {
      "application/vnd.jupyter.widget-view+json": {
       "model_id": "6f724ee821ae49aea9109d9b7addc40c",
       "version_major": 2,
       "version_minor": 0
      },
      "text/plain": [
       "VBox()"
      ]
     },
     "metadata": {},
     "output_type": "display_data"
    },
    {
     "data": {
      "application/vnd.jupyter.widget-view+json": {
       "model_id": "",
       "version_major": 2,
       "version_minor": 0
      },
      "text/plain": [
       "FloatProgress(value=0.0, bar_style='info', description='Progress:', layout=Layout(height='25px', width='50%'),…"
      ]
     },
     "metadata": {},
     "output_type": "display_data"
    }
   ],
   "source": [
    "average_delivery_time = df6.select(avg('deliver_time')).first()[0]"
   ]
  },
  {
   "cell_type": "code",
   "execution_count": 161,
   "id": "50f077ef",
   "metadata": {},
   "outputs": [
    {
     "data": {
      "application/vnd.jupyter.widget-view+json": {
       "model_id": "20e172b9e01141f091d4b6074c6dd1d7",
       "version_major": 2,
       "version_minor": 0
      },
      "text/plain": [
       "VBox()"
      ]
     },
     "metadata": {},
     "output_type": "display_data"
    },
    {
     "data": {
      "application/vnd.jupyter.widget-view+json": {
       "model_id": "",
       "version_major": 2,
       "version_minor": 0
      },
      "text/plain": [
       "FloatProgress(value=0.0, bar_style='info', description='Progress:', layout=Layout(height='25px', width='50%'),…"
      ]
     },
     "metadata": {},
     "output_type": "display_data"
    }
   ],
   "source": [
    "total_frieght_charges = df.select(sum('order_freight_value')).first()[0]"
   ]
  },
  {
   "cell_type": "code",
   "execution_count": 160,
   "id": "1d3dee71",
   "metadata": {},
   "outputs": [
    {
     "data": {
      "application/vnd.jupyter.widget-view+json": {
       "model_id": "3606befcb8e147f8912d7afab8a44e26",
       "version_major": 2,
       "version_minor": 0
      },
      "text/plain": [
       "VBox()"
      ]
     },
     "metadata": {},
     "output_type": "display_data"
    },
    {
     "data": {
      "application/vnd.jupyter.widget-view+json": {
       "model_id": "",
       "version_major": 2,
       "version_minor": 0
      },
      "text/plain": [
       "FloatProgress(value=0.0, bar_style='info', description='Progress:', layout=Layout(height='25px', width='50%'),…"
      ]
     },
     "metadata": {},
     "output_type": "display_data"
    },
    {
     "name": "stdout",
     "output_type": "stream",
     "text": [
      "+--------------------+------------------------+\n",
      "|       customer_city|sum(order_freight_value)|\n",
      "+--------------------+------------------------+\n",
      "|Quilometro 14 do ...|                   16.11|\n",
      "|    Francisco Morato|                   37.97|\n",
      "|   Lagoinha do Piaui|                   34.61|\n",
      "|           Americana|                  114.91|\n",
      "|           Nova Lima|                  111.08|\n",
      "|          Pedra Azul|                   16.28|\n",
      "|        Francisco Sa|                    15.1|\n",
      "|Sao Domingos do P...|                   12.75|\n",
      "|             Fartura|                   29.89|\n",
      "|       Sao Cristovao|                   21.15|\n",
      "|             Pirajui|                   85.12|\n",
      "|                Tupa|                   24.33|\n",
      "|              PIRAPO|                   29.76|\n",
      "|   Bom Jesus da Lapa|                   28.49|\n",
      "| Santa Cruz de Minas|                    30.2|\n",
      "|        Iracemapolis|                   12.96|\n",
      "|             Messias|      166.79000000000002|\n",
      "|           Campo Bom|                   18.33|\n",
      "|            Custodia|                   25.63|\n",
      "|            Caieiras|      35.879999999999995|\n",
      "+--------------------+------------------------+\n",
      "only showing top 20 rows"
     ]
    }
   ],
   "source": [
    "df.groupBy('customer_city').agg(sum('order_freight_value')).show()\n",
    "    "
   ]
  },
  {
   "cell_type": "code",
   "execution_count": 150,
   "id": "ab3f424a",
   "metadata": {},
   "outputs": [
    {
     "data": {
      "application/vnd.jupyter.widget-view+json": {
       "model_id": "e52e5002a39149dea44e80b1c3ef0a41",
       "version_major": 2,
       "version_minor": 0
      },
      "text/plain": [
       "VBox()"
      ]
     },
     "metadata": {},
     "output_type": "display_data"
    },
    {
     "data": {
      "application/vnd.jupyter.widget-view+json": {
       "model_id": "",
       "version_major": 2,
       "version_minor": 0
      },
      "text/plain": [
       "FloatProgress(value=0.0, bar_style='info', description='Progress:', layout=Layout(height='25px', width='50%'),…"
      ]
     },
     "metadata": {},
     "output_type": "display_data"
    },
    {
     "name": "stdout",
     "output_type": "stream",
     "text": [
      "897"
     ]
    }
   ],
   "source": [
    "df.select('customer_city').distinct().count()"
   ]
  },
  {
   "cell_type": "code",
   "execution_count": null,
   "id": "24a76038",
   "metadata": {},
   "outputs": [],
   "source": [
    "df6.write.csv('s3://aws-emr-resources-678153616337-us-east-1/olist_classified_public_dataset_final')"
   ]
  }
 ],
 "metadata": {
  "kernelspec": {
   "display_name": "PySpark",
   "language": "",
   "name": "pysparkkernel"
  },
  "language_info": {
   "codemirror_mode": {
    "name": "python",
    "version": 3
   },
   "mimetype": "text/x-python",
   "name": "pyspark",
   "pygments_lexer": "python3"
  }
 },
 "nbformat": 4,
 "nbformat_minor": 5
}
